{
 "cells": [
  {
   "cell_type": "markdown",
   "metadata": {},
   "source": [
    "Goal: get the names of all people who post on user's wall, as well as the link to their facebook page."
   ]
  },
  {
   "cell_type": "code",
   "execution_count": 31,
   "metadata": {},
   "outputs": [],
   "source": [
    "from urllib.request import urlopen\n",
    "import json\n",
    "import datetime\n",
    "import csv\n",
    "import time"
   ]
  },
  {
   "cell_type": "code",
   "execution_count": 34,
   "metadata": {},
   "outputs": [
    {
     "data": {
      "text/plain": [
       "'https://graph.facebook.com/v2.12/me/friends&access_token=EAALJfWzkKZAgBAI4qwptW2mNxxp4XhIyKnyrWM0uwExA9br9xzDmAKwoEr1ca5fZCev8zPG1Y5GyYLVJjaEeMRiEvgUTU4RajTWo3WCxZCV5C4c0HZAd1AyXgLUxRh7RylTye7OrKM7xSNdpMJpW7XGm5K3aBUvXnOp8hTbnoeaA7VtuTBZCVvWhggY2bwA4gSibHhFSfzQZDZD'"
      ]
     },
     "execution_count": 34,
     "metadata": {},
     "output_type": "execute_result"
    }
   ],
   "source": [
    "\n",
    "# app_id = \"784490488408472\"\n",
    "# app_secret = \"97035bf460ccc4734bd1ea2280534047\"\n",
    "# access_token = app_id + \"|\" + app_secret\n",
    "\n",
    "# access_token = \"EAALJfWzkKZAgBACDGJ7SWpGS6nbJB8XnpK2M2otvKw27OjMwhaEvVJeh1JjHCEbkqDbzEOIrCDIFhE7BOvxYBQGYdDDXHEN9Anu8gTKw7lYKMy9HsMga7OqzScZBPYreqLTmVPJTHDiWnvfxlCmC17HZCBZBUdIMzIMrtwmRoQZDZD\"\n",
    "access_token = \"EAALJfWzkKZAgBAI4qwptW2mNxxp4XhIyKnyrWM0uwExA9br9xzDmAKwoEr1ca5fZCev8zPG1Y5GyYLVJjaEeMRiEvgUTU4RajTWo3WCxZCV5C4c0HZAd1AyXgLUxRh7RylTye7OrKM7xSNdpMJpW7XGm5K3aBUvXnOp8hTbnoeaA7VtuTBZCVvWhggY2bwA4gSibHhFSfzQZDZD\"\n",
    "\n",
    "group_name = \"afxlowkey\"\n",
    "# urlopen(\"https://graph.facebook.com/v2.12/me\").read()\n",
    "\n",
    "base = \"https://graph.facebook.com/v2.12\"\n",
    "group_query = \"/search?q=afxlowkey&type=group\"\n",
    "token = \"&access_token=%s\" % access_token\n",
    "\n",
    "# parameters = \"/?access_token=%s\" % access_token\n",
    "url = base + group_query + token\n",
    "\n",
    "\n",
    "url = base + \"/me/friends\" + token\n",
    "\n",
    "url\n"
   ]
  },
  {
   "cell_type": "code",
   "execution_count": null,
   "metadata": {},
   "outputs": [],
   "source": []
  }
 ],
 "metadata": {
  "kernelspec": {
   "display_name": "Python 3",
   "language": "python",
   "name": "python3"
  },
  "language_info": {
   "codemirror_mode": {
    "name": "ipython",
    "version": 3
   },
   "file_extension": ".py",
   "mimetype": "text/x-python",
   "name": "python",
   "nbconvert_exporter": "python",
   "pygments_lexer": "ipython3",
   "version": "3.6.3"
  }
 },
 "nbformat": 4,
 "nbformat_minor": 2
}
