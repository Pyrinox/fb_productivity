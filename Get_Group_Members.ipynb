{
 "cells": [
  {
   "cell_type": "code",
   "execution_count": 3,
   "metadata": {},
   "outputs": [],
   "source": [
    "from urllib.request import urlopen\n",
    "import json\n",
    "import datetime\n",
    "import csv\n",
    "import time\n",
    "import pandas as pd"
   ]
  },
  {
   "cell_type": "markdown",
   "metadata": {},
   "source": [
    "You must be an admin of the group to access posts, comments, etc.\n",
    "\n",
    "To find your group ID, go to your group on the Facebook website and check the url. Copy the section right after \".../groups/\" to get the group ID."
   ]
  },
  {
   "cell_type": "code",
   "execution_count": 4,
   "metadata": {},
   "outputs": [
    {
     "data": {
      "text/plain": [
       "'https://graph.facebook.com/v2.12/search?q=afxlowkey&type=group&access_token=EAALJfWzkKZAgBACDGJ7SWpGS6nbJB8XnpK2M2otvKw27OjMwhaEvVJeh1JjHCEbkqDbzEOIrCDIFhE7BOvxYBQGYdDDXHEN9Anu8gTKw7lYKMy9HsMga7OqzScZBPYreqLTmVPJTHDiWnvfxlCmC17HZCBZBUdIMzIMrtwmRoQZDZD'"
      ]
     },
     "execution_count": 4,
     "metadata": {},
     "output_type": "execute_result"
    }
   ],
   "source": [
    "\n",
    "# app_id = \"784490488408472\"\n",
    "# app_secret = \"97035bf460ccc4734bd1ea2280534047\"\n",
    "# access_token = app_id + \"|\" + app_secret\n",
    "\n",
    "access_token = \"EAALJfWzkKZAgBACDGJ7SWpGS6nbJB8XnpK2M2otvKw27OjMwhaEvVJeh1JjHCEbkqDbzEOIrCDIFhE7BOvxYBQGYdDDXHEN9Anu8gTKw7lYKMy9HsMga7OqzScZBPYreqLTmVPJTHDiWnvfxlCmC17HZCBZBUdIMzIMrtwmRoQZDZD\"\n",
    "\n",
    "group_name = \"afxlowkey\"\n",
    "# urlopen(\"https://graph.facebook.com/v2.12/me\").read()\n",
    "\n",
    "base = \"https://graph.facebook.com/v2.12\"\n",
    "group_query = \"/search?q=afxlowkey&type=group\"\n",
    "token = \"&access_token=%s\" % access_token\n",
    "\n",
    "# parameters = \"/?access_token=%s\" % access_token\n",
    "url = base + group_query + token\n",
    "url\n"
   ]
  },
  {
   "cell_type": "code",
   "execution_count": 5,
   "metadata": {},
   "outputs": [
    {
     "data": {
      "text/plain": [
       "'771531489709530'"
      ]
     },
     "execution_count": 5,
     "metadata": {},
     "output_type": "execute_result"
    }
   ],
   "source": [
    "# group_name is the name of the group as it appears in the url\n",
    "# access_token can be attained from Graph API Explorer\n",
    "def getGroupID(group_name, access_token):\n",
    "    base = \"https://graph.facebook.com/v2.12\"\n",
    "    group_query = \"/search?q=%s&type=group\" % group_name\n",
    "    token = \"&access_token=%s\" % access_token\n",
    "    url = base + group_query + token\n",
    "    response = urlopen(url)\n",
    "#     data = json.loads(resp)\n",
    "#     return type(response.read())\n",
    "    data = json.loads(response.read())\n",
    "    return data[\"data\"][0][\"id\"]\n",
    "\n",
    "group_id = getGroupID(group_name, access_token)\n",
    "group_id"
   ]
  },
  {
   "cell_type": "code",
   "execution_count": 6,
   "metadata": {},
   "outputs": [
    {
     "name": "stdout",
     "output_type": "stream",
     "text": [
      "https://graph.facebook.com/v2.12/771531489709530/feed?fields=name&access_token=EAALJfWzkKZAgBACDGJ7SWpGS6nbJB8XnpK2M2otvKw27OjMwhaEvVJeh1JjHCEbkqDbzEOIrCDIFhE7BOvxYBQGYdDDXHEN9Anu8gTKw7lYKMy9HsMga7OqzScZBPYreqLTmVPJTHDiWnvfxlCmC17HZCBZBUdIMzIMrtwmRoQZDZD\n"
     ]
    },
    {
     "data": {
      "text/plain": [
       "{1: '771531489709530_781143315415014',\n",
       " 2: '771531489709530_781449528717726',\n",
       " 3: '771531489709530_781160542079958',\n",
       " 4: '771531489709530_781494235379922',\n",
       " 5: '771531489709530_778418549020824',\n",
       " 6: '771531489709530_780279948834684',\n",
       " 7: '771531489709530_781677292028283',\n",
       " 8: '771531489709530_781692568693422',\n",
       " 9: '771531489709530_782031345326211',\n",
       " 10: '771531489709530_782438615285484',\n",
       " 11: '771531489709530_783311905198155',\n",
       " 12: '771531489709530_783457378516941',\n",
       " 13: '771531489709530_782556048607074',\n",
       " 14: '771531489709530_783877128474966',\n",
       " 15: '771531489709530_784392488423430',\n",
       " 16: '771531489709530_784902328372446',\n",
       " 17: '771531489709530_785306394998706',\n",
       " 18: '771531489709530_785428478319831',\n",
       " 19: '771531489709530_784746418388037',\n",
       " 20: '771531489709530_787169081479104',\n",
       " 21: '771531489709530_785787304950615',\n",
       " 22: '771531489709530_787692618093417',\n",
       " 23: '771531489709530_788331141362898',\n",
       " 24: '771531489709530_788541321341880',\n",
       " 25: '771531489709530_789162921279720'}"
      ]
     },
     "execution_count": 6,
     "metadata": {},
     "output_type": "execute_result"
    }
   ],
   "source": [
    "def getPostIDs(group_id, access_token):\n",
    "    base = \"https://graph.facebook.com/v2.12/\" + group_id\n",
    "    group_query = \"/feed?fields=name\"\n",
    "    token = \"&access_token=%s\" % access_token\n",
    "    url = base + group_query + token\n",
    "    print(url)\n",
    "    response = urlopen(url)\n",
    "    data = json.loads(response.read())\n",
    "    list_of_dicts = data[\"data\"]\n",
    "    list_of_group_post_ids = [each[\"id\"] for each in list_of_dicts]\n",
    "    post_order_dict = {}\n",
    "    iter_range = len(list_of_group_post_ids)\n",
    "    for i in range(iter_range):\n",
    "        back = list_of_group_post_ids.pop()\n",
    "        post_order_dict[i+1] = back\n",
    "    return post_order_dict\n",
    "#     return data[\"data\"]\n",
    "\n",
    "getPostIDs(group_id, access_token)"
   ]
  },
  {
   "cell_type": "code",
   "execution_count": 11,
   "metadata": {},
   "outputs": [
    {
     "data": {
      "text/plain": [
       "'https://graph.facebook.com/v2.12/771531489709530/members?&access_token=EAALJfWzkKZAgBACDGJ7SWpGS6nbJB8XnpK2M2otvKw27OjMwhaEvVJeh1JjHCEbkqDbzEOIrCDIFhE7BOvxYBQGYdDDXHEN9Anu8gTKw7lYKMy9HsMga7OqzScZBPYreqLTmVPJTHDiWnvfxlCmC17HZCBZBUdIMzIMrtwmRoQZDZD'"
      ]
     },
     "execution_count": 11,
     "metadata": {},
     "output_type": "execute_result"
    }
   ],
   "source": [
    "def getGroupMembers(group_id, access_token):\n",
    "    url = createURL(group_id, \"/members?\", access_token)\n",
    "    \n",
    "    \n",
    "    return url\n",
    "\n",
    "getGroupMembers(\"771531489709530\", access_token)"
   ]
  },
  {
   "cell_type": "code",
   "execution_count": 10,
   "metadata": {},
   "outputs": [
    {
     "data": {
      "text/plain": [
       "'https://graph.facebook.com/v2.12/771531489709530/members?&access_token=EAALJfWzkKZAgBACDGJ7SWpGS6nbJB8XnpK2M2otvKw27OjMwhaEvVJeh1JjHCEbkqDbzEOIrCDIFhE7BOvxYBQGYdDDXHEN9Anu8gTKw7lYKMy9HsMga7OqzScZBPYreqLTmVPJTHDiWnvfxlCmC17HZCBZBUdIMzIMrtwmRoQZDZD'"
      ]
     },
     "execution_count": 10,
     "metadata": {},
     "output_type": "execute_result"
    }
   ],
   "source": [
    "def createURL(identifier, query, access_token, base=\"https://graph.facebook.com/v2.12/\"):\n",
    "    \"\"\"\n",
    "    input:\n",
    "        base (string): the base api url to make calls to\n",
    "        identifier (string): can either be a string of numbers, or an actual name (lowercase, no spaces).\n",
    "        query (string): formated as a if were part of a url. E.g. \"/members?\"\n",
    "        token (string): \n",
    "    output:\n",
    "        url (string): the properly formatted url to make an API call\n",
    "    \"\"\"\n",
    "    formatted_token = \"&access_token=%s\" % access_token\n",
    "    url = base + identifier + query + formatted_token\n",
    "    return url\n",
    "\n",
    "createURL(\"771531489709530\", \"/members?\", access_token)\n",
    "    "
   ]
  },
  {
   "cell_type": "code",
   "execution_count": null,
   "metadata": {},
   "outputs": [],
   "source": [
    "access_token = \"EAALJfWzkKZAgBACDGJ7SWpGS6nbJB8XnpK2M2otvKw27OjMwhaEvVJeh1JjHCEbkqDbzEOIrCDIFhE7BOvxYBQGYdDDXHEN9Anu8gTKw7lYKMy9HsMga7OqzScZBPYreqLTmVPJTHDiWnvfxlCmC17HZCBZBUdIMzIMrtwmRoQZDZD\"\n",
    "\n",
    "group_name = \"afxlowkey\"\n",
    "# urlopen(\"https://graph.facebook.com/v2.12/me\").read()\n",
    "\n",
    "base = \"https://graph.facebook.com/v2.12\"\n",
    "group_query = \"/search?q=afxlowkey&type=group\"\n",
    "token = \"&access_token=%s\" % access_token\n",
    "\n",
    "# parameters = \"/?access_token=%s\" % access_token\n",
    "url = base + group_query + token\n",
    "url"
   ]
  },
  {
   "cell_type": "code",
   "execution_count": null,
   "metadata": {},
   "outputs": [],
   "source": []
  }
 ],
 "metadata": {
  "kernelspec": {
   "display_name": "Python 3",
   "language": "python",
   "name": "python3"
  },
  "language_info": {
   "codemirror_mode": {
    "name": "ipython",
    "version": 3
   },
   "file_extension": ".py",
   "mimetype": "text/x-python",
   "name": "python",
   "nbconvert_exporter": "python",
   "pygments_lexer": "ipython3",
   "version": "3.6.3"
  }
 },
 "nbformat": 4,
 "nbformat_minor": 2
}
